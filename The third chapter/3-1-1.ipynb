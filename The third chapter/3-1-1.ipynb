{
 "cells": [
  {
   "cell_type": "code",
   "execution_count": 1,
   "metadata": {
    "collapsed": true
   },
   "outputs": [
    {
     "data": {
      "text/plain": "{'China': 86,\n 'India': 91,\n 'United States': 1,\n 'Indonesia': 62,\n 'Brazil': 55,\n 'Pakistan': 92,\n 'Bangladesh': 880,\n 'Nigeria': 234,\n 'Russia': 7,\n 'Japan': 81}"
     },
     "execution_count": 1,
     "metadata": {},
     "output_type": "execute_result"
    }
   ],
   "source": [
    "DIAL_CODES =[\n",
    "    (86,'China'),\n",
    "    (91,'India'),\n",
    "    (1,'United States'),\n",
    "    (62,'Indonesia'),\n",
    "    (55,'Brazil'),\n",
    "    (92,'Pakistan'),\n",
    "    (880,'Bangladesh'),\n",
    "    (234,\"Nigeria\"),\n",
    "    (7,'Russia'),\n",
    "    (81,'Japan'),\n",
    "]\n",
    "country_code ={country:code for code, country in DIAL_CODES}\n",
    "country_code"
   ]
  },
  {
   "cell_type": "code",
   "execution_count": 3,
   "outputs": [
    {
     "data": {
      "text/plain": "{1: 'UNITED STATES', 62: 'INDONESIA', 55: 'BRAZIL', 7: 'RUSSIA'}"
     },
     "execution_count": 3,
     "metadata": {},
     "output_type": "execute_result"
    }
   ],
   "source": [
    "{code:country.upper() for country,code in country_code.items() if code <66}"
   ],
   "metadata": {
    "collapsed": false,
    "pycharm": {
     "name": "#%%\n"
    }
   }
  },
  {
   "cell_type": "code",
   "execution_count": null,
   "outputs": [],
   "source": [],
   "metadata": {
    "collapsed": false,
    "pycharm": {
     "name": "#%%\n"
    }
   }
  }
 ],
 "metadata": {
  "kernelspec": {
   "display_name": "Python 3",
   "language": "python",
   "name": "python3"
  },
  "language_info": {
   "codemirror_mode": {
    "name": "ipython",
    "version": 2
   },
   "file_extension": ".py",
   "mimetype": "text/x-python",
   "name": "python",
   "nbconvert_exporter": "python",
   "pygments_lexer": "ipython2",
   "version": "2.7.6"
  }
 },
 "nbformat": 4,
 "nbformat_minor": 0
}