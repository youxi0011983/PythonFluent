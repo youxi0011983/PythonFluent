{
 "cells": [
  {
   "cell_type": "code",
   "execution_count": 4,
   "metadata": {
    "collapsed": true
   },
   "outputs": [
    {
     "data": {
      "text/plain": "<Order total: 42.00 due: 42.00>"
     },
     "execution_count": 4,
     "metadata": {},
     "output_type": "execute_result"
    }
   ],
   "source": [
    "from  LineItem import  Customer\n",
    "from LineItem import  LineItem\n",
    "from LineItem import Order\n",
    "from LineItem import FidelityPromo\n",
    "from LineItem import BulkItemPromo\n",
    "from LineItem import LargeOrderPromo\n",
    "\n",
    "# 两个客户 积分为0 和1100\n",
    "joe = Customer('John Doe',0)\n",
    "ann = Customer('Ann Smith',1100)\n",
    "# 有三个商品的购物车\n",
    "cart = [LineItem('banana',4,.5),\n",
    "        LineItem('apple',10,1.5),\n",
    "        LineItem('watermellon',5,5.0)]\n",
    "# 没有joe折扣\n",
    "Order(joe,cart,FidelityPromo())"
   ]
  },
  {
   "cell_type": "code",
   "execution_count": 5,
   "outputs": [
    {
     "data": {
      "text/plain": "<Order total: 42.00 due: 39.90>"
     },
     "execution_count": 5,
     "metadata": {},
     "output_type": "execute_result"
    }
   ],
   "source": [
    "# 给ann折扣，因为积分超过1000\n",
    "Order(ann,cart,FidelityPromo())"
   ],
   "metadata": {
    "collapsed": false,
    "pycharm": {
     "name": "#%%\n"
    }
   }
  },
  {
   "cell_type": "code",
   "execution_count": 6,
   "outputs": [
    {
     "data": {
      "text/plain": "<Order total: 30.00 due: 28.50>"
     },
     "execution_count": 6,
     "metadata": {},
     "output_type": "execute_result"
    }
   ],
   "source": [
    "# 购物撤有30个香蕉和10个苹果，优惠了1.5美元\n",
    "banana_cart = [LineItem('banana',30,.5),\n",
    "        LineItem('apple',10,1.5)]\n",
    "Order(joe,banana_cart,BulkItemPromo())"
   ],
   "metadata": {
    "collapsed": false,
    "pycharm": {
     "name": "#%%\n"
    }
   }
  },
  {
   "cell_type": "code",
   "execution_count": 8,
   "outputs": [
    {
     "data": {
      "text/plain": "<Order total: 10.00 due: 9.30>"
     },
     "execution_count": 8,
     "metadata": {},
     "output_type": "execute_result"
    }
   ],
   "source": [
    "# 有10个不同的商品，每个优惠的价格是1.00美元，\n",
    "long_order = [LineItem(str(item_code),1,1.0)\n",
    "        for item_code in range(10)]\n",
    "#整个订单优惠了7%折扣\n",
    "Order(joe,long_order,LargeOrderPromo())"
   ],
   "metadata": {
    "collapsed": false,
    "pycharm": {
     "name": "#%%\n"
    }
   }
  },
  {
   "cell_type": "code",
   "execution_count": 9,
   "outputs": [
    {
     "data": {
      "text/plain": "<Order total: 42.00 due: 42.00>"
     },
     "execution_count": 9,
     "metadata": {},
     "output_type": "execute_result"
    }
   ],
   "source": [
    "Order(joe,cart,LargeOrderPromo())"
   ],
   "metadata": {
    "collapsed": false,
    "pycharm": {
     "name": "#%%\n"
    }
   }
  },
  {
   "cell_type": "code",
   "execution_count": null,
   "outputs": [],
   "source": [],
   "metadata": {
    "collapsed": false,
    "pycharm": {
     "name": "#%%\n"
    }
   }
  }
 ],
 "metadata": {
  "kernelspec": {
   "display_name": "Python 3",
   "language": "python",
   "name": "python3"
  },
  "language_info": {
   "codemirror_mode": {
    "name": "ipython",
    "version": 2
   },
   "file_extension": ".py",
   "mimetype": "text/x-python",
   "name": "python",
   "nbconvert_exporter": "python",
   "pygments_lexer": "ipython2",
   "version": "2.7.6"
  }
 },
 "nbformat": 4,
 "nbformat_minor": 0
}